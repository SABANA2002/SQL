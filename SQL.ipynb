{
 "cells": [
  {
   "cell_type": "code",
   "execution_count": 1,
   "id": "9350620d",
   "metadata": {},
   "outputs": [
    {
     "name": "stdout",
     "output_type": "stream",
     "text": [
      "Requirement already satisfied: mySQL in c:\\users\\hp\\anaconda3\\lib\\site-packages (0.0.3)\n",
      "Requirement already satisfied: mysqlclient in c:\\users\\hp\\anaconda3\\lib\\site-packages (from mySQL) (2.1.0)\n",
      "Note: you may need to restart the kernel to use updated packages.\n"
     ]
    }
   ],
   "source": [
    "pip install mySQL"
   ]
  },
  {
   "cell_type": "code",
   "execution_count": 20,
   "id": "872cd148",
   "metadata": {},
   "outputs": [
    {
     "name": "stdout",
     "output_type": "stream",
     "text": [
      "Requirement already satisfied: mySQL-connector in c:\\users\\hp\\anaconda3\\lib\\site-packages (2.2.9)\n",
      "Note: you may need to restart the kernel to use updated packages.\n"
     ]
    }
   ],
   "source": [
    "pip install mySQL-connector"
   ]
  },
  {
   "cell_type": "code",
   "execution_count": 21,
   "id": "cdbb57c8",
   "metadata": {},
   "outputs": [],
   "source": [
    "import mysql.connector"
   ]
  },
  {
   "cell_type": "code",
   "execution_count": 22,
   "id": "9ec202a9",
   "metadata": {},
   "outputs": [],
   "source": [
    "my_db=mysql.connector.connect(host=\"mysql8001.site4now.net\",user=\"a86ca8_anbujoe\",password=\"Qwerty@123\",database=\"db_a86ca8_anbujoe\")"
   ]
  },
  {
   "cell_type": "code",
   "execution_count": 23,
   "id": "69ffcc05",
   "metadata": {},
   "outputs": [],
   "source": [
    "cursor=my_db.cursor()"
   ]
  },
  {
   "cell_type": "code",
   "execution_count": 6,
   "id": "753d127b",
   "metadata": {},
   "outputs": [],
   "source": [
    "#query=\"create table college(Roll_No varchar(10) NOT NULL,Name varchar(20) UNIQUE,DOB date(10) UNIQUE,Address varchar(50),Ph_NO int(20),Blood_Group varchar(5))\"\n",
    "#cursor.execute(query)"
   ]
  },
  {
   "cell_type": "code",
   "execution_count": 24,
   "id": "3485a774",
   "metadata": {},
   "outputs": [],
   "source": [
    "#q=\"Show tables\"\n",
    "q=\"insert into sabana values('CSB1929','Sabana',2002-02-27,'Pattukkottai',786900448,'B+ve')\"\n",
    "cursor.execute(q)\n"
   ]
  },
  {
   "cell_type": "code",
   "execution_count": 25,
   "id": "bef89c11",
   "metadata": {},
   "outputs": [],
   "source": [
    "q=\"insert into sabana values('CSB1917','Nithya',2002-05-27,'Trichy',1234567890,'B+ve')\"\n",
    "cursor.execute(q)\n"
   ]
  },
  {
   "cell_type": "code",
   "execution_count": 26,
   "id": "4f3c72eb",
   "metadata": {},
   "outputs": [],
   "source": [
    "q=\"insert into sabana values('ECA1941','Fathi',2001-02-27,'Trichy',987654210,'B-ve')\"\n",
    "cursor.execute(q)\n"
   ]
  },
  {
   "cell_type": "code",
   "execution_count": 27,
   "id": "b37273a9",
   "metadata": {},
   "outputs": [],
   "source": [
    "for i in cursor:\n",
    "    print(i)"
   ]
  },
  {
   "cell_type": "code",
   "execution_count": 28,
   "id": "5395b6ba",
   "metadata": {},
   "outputs": [],
   "source": [
    "import pandas as pd"
   ]
  },
  {
   "cell_type": "code",
   "execution_count": 29,
   "id": "149f38d0",
   "metadata": {},
   "outputs": [],
   "source": [
    "df=pd.read_sql(\"select * from sabana\",my_db)"
   ]
  },
  {
   "cell_type": "code",
   "execution_count": 30,
   "id": "254cc3e0",
   "metadata": {},
   "outputs": [
    {
     "data": {
      "text/html": [
       "<div>\n",
       "<style scoped>\n",
       "    .dataframe tbody tr th:only-of-type {\n",
       "        vertical-align: middle;\n",
       "    }\n",
       "\n",
       "    .dataframe tbody tr th {\n",
       "        vertical-align: top;\n",
       "    }\n",
       "\n",
       "    .dataframe thead th {\n",
       "        text-align: right;\n",
       "    }\n",
       "</style>\n",
       "<table border=\"1\" class=\"dataframe\">\n",
       "  <thead>\n",
       "    <tr style=\"text-align: right;\">\n",
       "      <th></th>\n",
       "      <th>Roll_No</th>\n",
       "      <th>Name</th>\n",
       "      <th>DOB</th>\n",
       "      <th>Address</th>\n",
       "      <th>Ph_NO</th>\n",
       "      <th>Blood_Group</th>\n",
       "    </tr>\n",
       "  </thead>\n",
       "  <tbody>\n",
       "    <tr>\n",
       "      <th>0</th>\n",
       "      <td>CSB1929</td>\n",
       "      <td>Sabana</td>\n",
       "      <td>1973</td>\n",
       "      <td>Pattukkottai</td>\n",
       "      <td>786900448</td>\n",
       "      <td>B+ve</td>\n",
       "    </tr>\n",
       "    <tr>\n",
       "      <th>1</th>\n",
       "      <td>CSB1917</td>\n",
       "      <td>Nithya</td>\n",
       "      <td>1970</td>\n",
       "      <td>Trichy</td>\n",
       "      <td>1234567890</td>\n",
       "      <td>B+ve</td>\n",
       "    </tr>\n",
       "    <tr>\n",
       "      <th>2</th>\n",
       "      <td>ECA1941</td>\n",
       "      <td>Fathi</td>\n",
       "      <td>1972</td>\n",
       "      <td>Trichy</td>\n",
       "      <td>987654210</td>\n",
       "      <td>B-ve</td>\n",
       "    </tr>\n",
       "  </tbody>\n",
       "</table>\n",
       "</div>"
      ],
      "text/plain": [
       "   Roll_No    Name   DOB       Address       Ph_NO Blood_Group\n",
       "0  CSB1929  Sabana  1973  Pattukkottai   786900448        B+ve\n",
       "1  CSB1917  Nithya  1970        Trichy  1234567890        B+ve\n",
       "2  ECA1941   Fathi  1972        Trichy   987654210        B-ve"
      ]
     },
     "execution_count": 30,
     "metadata": {},
     "output_type": "execute_result"
    }
   ],
   "source": [
    "df.head()"
   ]
  },
  {
   "cell_type": "code",
   "execution_count": null,
   "id": "12a07179",
   "metadata": {},
   "outputs": [],
   "source": []
  }
 ],
 "metadata": {
  "kernelspec": {
   "display_name": "Python 3 (ipykernel)",
   "language": "python",
   "name": "python3"
  },
  "language_info": {
   "codemirror_mode": {
    "name": "ipython",
    "version": 3
   },
   "file_extension": ".py",
   "mimetype": "text/x-python",
   "name": "python",
   "nbconvert_exporter": "python",
   "pygments_lexer": "ipython3",
   "version": "3.9.7"
  }
 },
 "nbformat": 4,
 "nbformat_minor": 5
}
